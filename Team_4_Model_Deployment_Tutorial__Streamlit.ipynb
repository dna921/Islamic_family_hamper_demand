{
  "cells": [
    {
      "cell_type": "markdown",
      "metadata": {
        "id": "KEKC4yU0uX3Z"
      },
      "source": [
        "![image.png](data:image/png;base64,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)"
      ]
    },
    {
      "cell_type": "markdown",
      "metadata": {
        "id": "4YiZRvPzi5id"
      },
      "source": [
        "# Islamic Family Sample App"
      ]
    },
    {
      "cell_type": "code",
      "execution_count": 1,
      "metadata": {
        "colab": {
          "base_uri": "https://localhost:8080/"
        },
        "id": "6e7LylHWxLWD",
        "outputId": "47eb902f-c942-4f12-8d95-751e40c529dc"
      },
      "outputs": [
        {
          "output_type": "stream",
          "name": "stdout",
          "text": [
            "Collecting streamlit\n",
            "  Downloading streamlit-1.44.0-py3-none-any.whl.metadata (8.9 kB)\n",
            "Requirement already satisfied: joblib in /usr/local/lib/python3.11/dist-packages (1.4.2)\n",
            "Requirement already satisfied: altair<6,>=4.0 in /usr/local/lib/python3.11/dist-packages (from streamlit) (5.5.0)\n",
            "Requirement already satisfied: blinker<2,>=1.0.0 in /usr/local/lib/python3.11/dist-packages (from streamlit) (1.9.0)\n",
            "Requirement already satisfied: cachetools<6,>=4.0 in /usr/local/lib/python3.11/dist-packages (from streamlit) (5.5.2)\n",
            "Requirement already satisfied: click<9,>=7.0 in /usr/local/lib/python3.11/dist-packages (from streamlit) (8.1.8)\n",
            "Requirement already satisfied: numpy<3,>=1.23 in /usr/local/lib/python3.11/dist-packages (from streamlit) (2.0.2)\n",
            "Requirement already satisfied: packaging<25,>=20 in /usr/local/lib/python3.11/dist-packages (from streamlit) (24.2)\n",
            "Requirement already satisfied: pandas<3,>=1.4.0 in /usr/local/lib/python3.11/dist-packages (from streamlit) (2.2.2)\n",
            "Requirement already satisfied: pillow<12,>=7.1.0 in /usr/local/lib/python3.11/dist-packages (from streamlit) (11.1.0)\n",
            "Requirement already satisfied: protobuf<6,>=3.20 in /usr/local/lib/python3.11/dist-packages (from streamlit) (5.29.4)\n",
            "Requirement already satisfied: pyarrow>=7.0 in /usr/local/lib/python3.11/dist-packages (from streamlit) (18.1.0)\n",
            "Requirement already satisfied: requests<3,>=2.27 in /usr/local/lib/python3.11/dist-packages (from streamlit) (2.32.3)\n",
            "Requirement already satisfied: tenacity<10,>=8.1.0 in /usr/local/lib/python3.11/dist-packages (from streamlit) (9.0.0)\n",
            "Requirement already satisfied: toml<2,>=0.10.1 in /usr/local/lib/python3.11/dist-packages (from streamlit) (0.10.2)\n",
            "Requirement already satisfied: typing-extensions<5,>=4.4.0 in /usr/local/lib/python3.11/dist-packages (from streamlit) (4.12.2)\n",
            "Collecting watchdog<7,>=2.1.5 (from streamlit)\n",
            "  Downloading watchdog-6.0.0-py3-none-manylinux2014_x86_64.whl.metadata (44 kB)\n",
            "\u001b[2K     \u001b[90m━━━━━━━━━━━━━━━━━━━━━━━━━━━━━━━━━━━━━━━━\u001b[0m \u001b[32m44.3/44.3 kB\u001b[0m \u001b[31m2.1 MB/s\u001b[0m eta \u001b[36m0:00:00\u001b[0m\n",
            "\u001b[?25hRequirement already satisfied: gitpython!=3.1.19,<4,>=3.0.7 in /usr/local/lib/python3.11/dist-packages (from streamlit) (3.1.44)\n",
            "Collecting pydeck<1,>=0.8.0b4 (from streamlit)\n",
            "  Downloading pydeck-0.9.1-py2.py3-none-any.whl.metadata (4.1 kB)\n",
            "Requirement already satisfied: tornado<7,>=6.0.3 in /usr/local/lib/python3.11/dist-packages (from streamlit) (6.4.2)\n",
            "Requirement already satisfied: jinja2 in /usr/local/lib/python3.11/dist-packages (from altair<6,>=4.0->streamlit) (3.1.6)\n",
            "Requirement already satisfied: jsonschema>=3.0 in /usr/local/lib/python3.11/dist-packages (from altair<6,>=4.0->streamlit) (4.23.0)\n",
            "Requirement already satisfied: narwhals>=1.14.2 in /usr/local/lib/python3.11/dist-packages (from altair<6,>=4.0->streamlit) (1.31.0)\n",
            "Requirement already satisfied: gitdb<5,>=4.0.1 in /usr/local/lib/python3.11/dist-packages (from gitpython!=3.1.19,<4,>=3.0.7->streamlit) (4.0.12)\n",
            "Requirement already satisfied: python-dateutil>=2.8.2 in /usr/local/lib/python3.11/dist-packages (from pandas<3,>=1.4.0->streamlit) (2.8.2)\n",
            "Requirement already satisfied: pytz>=2020.1 in /usr/local/lib/python3.11/dist-packages (from pandas<3,>=1.4.0->streamlit) (2025.1)\n",
            "Requirement already satisfied: tzdata>=2022.7 in /usr/local/lib/python3.11/dist-packages (from pandas<3,>=1.4.0->streamlit) (2025.1)\n",
            "Requirement already satisfied: charset-normalizer<4,>=2 in /usr/local/lib/python3.11/dist-packages (from requests<3,>=2.27->streamlit) (3.4.1)\n",
            "Requirement already satisfied: idna<4,>=2.5 in /usr/local/lib/python3.11/dist-packages (from requests<3,>=2.27->streamlit) (3.10)\n",
            "Requirement already satisfied: urllib3<3,>=1.21.1 in /usr/local/lib/python3.11/dist-packages (from requests<3,>=2.27->streamlit) (2.3.0)\n",
            "Requirement already satisfied: certifi>=2017.4.17 in /usr/local/lib/python3.11/dist-packages (from requests<3,>=2.27->streamlit) (2025.1.31)\n",
            "Requirement already satisfied: smmap<6,>=3.0.1 in /usr/local/lib/python3.11/dist-packages (from gitdb<5,>=4.0.1->gitpython!=3.1.19,<4,>=3.0.7->streamlit) (5.0.2)\n",
            "Requirement already satisfied: MarkupSafe>=2.0 in /usr/local/lib/python3.11/dist-packages (from jinja2->altair<6,>=4.0->streamlit) (3.0.2)\n",
            "Requirement already satisfied: attrs>=22.2.0 in /usr/local/lib/python3.11/dist-packages (from jsonschema>=3.0->altair<6,>=4.0->streamlit) (25.3.0)\n",
            "Requirement already satisfied: jsonschema-specifications>=2023.03.6 in /usr/local/lib/python3.11/dist-packages (from jsonschema>=3.0->altair<6,>=4.0->streamlit) (2024.10.1)\n",
            "Requirement already satisfied: referencing>=0.28.4 in /usr/local/lib/python3.11/dist-packages (from jsonschema>=3.0->altair<6,>=4.0->streamlit) (0.36.2)\n",
            "Requirement already satisfied: rpds-py>=0.7.1 in /usr/local/lib/python3.11/dist-packages (from jsonschema>=3.0->altair<6,>=4.0->streamlit) (0.23.1)\n",
            "Requirement already satisfied: six>=1.5 in /usr/local/lib/python3.11/dist-packages (from python-dateutil>=2.8.2->pandas<3,>=1.4.0->streamlit) (1.17.0)\n",
            "Downloading streamlit-1.44.0-py3-none-any.whl (9.8 MB)\n",
            "\u001b[2K   \u001b[90m━━━━━━━━━━━━━━━━━━━━━━━━━━━━━━━━━━━━━━━━\u001b[0m \u001b[32m9.8/9.8 MB\u001b[0m \u001b[31m43.2 MB/s\u001b[0m eta \u001b[36m0:00:00\u001b[0m\n",
            "\u001b[?25hDownloading pydeck-0.9.1-py2.py3-none-any.whl (6.9 MB)\n",
            "\u001b[2K   \u001b[90m━━━━━━━━━━━━━━━━━━━━━━━━━━━━━━━━━━━━━━━━\u001b[0m \u001b[32m6.9/6.9 MB\u001b[0m \u001b[31m47.3 MB/s\u001b[0m eta \u001b[36m0:00:00\u001b[0m\n",
            "\u001b[?25hDownloading watchdog-6.0.0-py3-none-manylinux2014_x86_64.whl (79 kB)\n",
            "\u001b[2K   \u001b[90m━━━━━━━━━━━━━━━━━━━━━━━━━━━━━━━━━━━━━━━━\u001b[0m \u001b[32m79.1/79.1 kB\u001b[0m \u001b[31m5.4 MB/s\u001b[0m eta \u001b[36m0:00:00\u001b[0m\n",
            "\u001b[?25hInstalling collected packages: watchdog, pydeck, streamlit\n",
            "Successfully installed pydeck-0.9.1 streamlit-1.44.0 watchdog-6.0.0\n"
          ]
        }
      ],
      "source": [
        "#install streamlit, one time execution\n",
        "!pip install streamlit joblib"
      ]
    },
    {
      "cell_type": "code",
      "execution_count": 2,
      "metadata": {
        "id": "vuQ_jwXnBddn"
      },
      "outputs": [],
      "source": [
        "#import streamlit\n",
        "import streamlit as st"
      ]
    },
    {
      "cell_type": "code",
      "execution_count": 3,
      "metadata": {
        "id": "GWNKMtygDxg_"
      },
      "outputs": [],
      "source": [
        "import pandas as pd\n",
        "import numpy as np\n",
        "import matplotlib.pyplot as plt\n",
        "import seaborn as sns\n",
        "import shap\n",
        "import joblib\n",
        "from xgboost import XGBRegressor\n",
        "from sklearn.inspection import PartialDependenceDisplay"
      ]
    },
    {
      "cell_type": "code",
      "execution_count": 4,
      "metadata": {
        "id": "zIxhsdvxSypR"
      },
      "outputs": [],
      "source": [
        "from geopy.geocoders import Nominatim\n",
        "import time\n",
        "import pandas as pd\n",
        "\n",
        "# Broad areas you want to geocode\n",
        "areas = [\n",
        "    \"NAIT/Kingway\", \"Boyle Street/McCauley\", \"Castle Downs\", \"Alberta Avenue\",\n",
        "    \"Mill Woods\", \"Blue Quill\", \"Strathcona\", \"Jasper Place\", \"Bonnie Doon\",\n",
        "    \"West Edmonton\", \"Calder/Kensington\", \"Oliver/Downtown\", \"Albany/Cumberland\",\n",
        "    \"North Central\", \"University Area\", \"Meadowlark/Jasper Place\", \"Downtown\",\n",
        "    \"Red Deer\", \"The Meadows\"\n",
        "]\n",
        "\n",
        "geolocator = Nominatim(user_agent=\"edmonton_hamper_mapping\")\n",
        "results = []\n",
        "\n",
        "for area in areas:\n",
        "    try:\n",
        "        location = geolocator.geocode(f\"{area}, Edmonton, Alberta\", timeout=10)\n",
        "        if location:\n",
        "            results.append({'broad_area': area, 'Latitude': location.latitude, 'Longitude': location.longitude})\n",
        "        else:\n",
        "            results.append({'broad_area': area, 'Latitude': None, 'Longitude': None})\n",
        "    except Exception as e:\n",
        "        results.append({'broad_area': area, 'Latitude': None, 'Longitude': None})\n",
        "    time.sleep(1)\n",
        "\n",
        "# Save to CSV\n",
        "df_coords = pd.DataFrame(results)\n",
        "df_coords.to_csv(\"geocoded_broad_areas.csv\", index=False)\n"
      ]
    },
    {
      "cell_type": "code",
      "source": [
        "import joblib\n",
        "\n",
        "# Load the model\n",
        "xgb_model = joblib.load('xgb_model.pkl')\n",
        "\n",
        "# Get the feature names\n",
        "booster = xgb_model.get_booster()\n",
        "feature_names = booster.feature_names\n",
        "print(feature_names)\n"
      ],
      "metadata": {
        "colab": {
          "base_uri": "https://localhost:8080/"
        },
        "id": "MHujj9b_qX2a",
        "outputId": "02a58e2a-ba4d-4909-bb4c-66ec64ca2557"
      },
      "execution_count": 47,
      "outputs": [
        {
          "output_type": "stream",
          "name": "stdout",
          "text": [
            "['dependents_qty', 'primary_client_key', 'house_number', 'distance_km', 'month', 'week_of_month', 'broad_area_encoded', 'requests_per_household', 'Average household size', 'Couple-family households with children', 'Multigenerational households', 'One-parent families in which the parent is a man+', 'One-parent families in which the parent is a woman+', 'Persons not in census families - Living alone', 'Total one-parent families']\n"
          ]
        }
      ]
    },
    {
      "cell_type": "code",
      "source": [
        "import pandas as pd\n",
        "\n",
        "# Dummy data for testing prediction\n",
        "dummy_data = pd.DataFrame({\n",
        "    'dependents_qty': [1],\n",
        "    'primary_client_key': [0],\n",
        "    'house_number': [0],\n",
        "    'distance_km': [5.0],\n",
        "    'month': [3],\n",
        "    'requests_per_household': [2.5],\n",
        "    'week_of_month': [2],\n",
        "    'Average household size': [4.0],\n",
        "    'broad_area_encoded': [1],  # Assuming this is pre-encoded\n",
        "    'Couple-family households with children': [0],\n",
        "    'Multigenerational households': [0],\n",
        "    'One-parent families in which the parent is a man+': [0],\n",
        "    'One-parent families in which the parent is a woman+': [0],\n",
        "    'Persons not in census families - Living alone': [0],\n",
        "    'Total one-parent families': [0]\n",
        "})\n",
        "\n",
        "# Print the columns of input data\n",
        "print(\"Input data columns:\", dummy_data.columns)\n",
        "\n",
        "# Compare with the feature names the model was trained on\n",
        "print(\"Feature names the model was trained on:\", feature_names)\n",
        "\n",
        "# Now reorder input data to match the model's feature names\n",
        "dummy_data = dummy_data[feature_names]\n",
        "print(\"Reordered input data columns:\", dummy_data.columns)\n",
        "# After ensuring that the column order matches the model's expected order, proceed with the prediction\n",
        "hamper_pred = regressor.predict(dummy_data)\n",
        "\n",
        "# Print the result\n",
        "print(f\"Predicted Hamper Demand: {hamper_pred[0]}\")\n"
      ],
      "metadata": {
        "colab": {
          "base_uri": "https://localhost:8080/"
        },
        "id": "wnuPU9hOqh8d",
        "outputId": "bd815695-290d-44ec-842b-22896f7205a8"
      },
      "execution_count": 53,
      "outputs": [
        {
          "output_type": "stream",
          "name": "stdout",
          "text": [
            "Input data columns: Index(['dependents_qty', 'primary_client_key', 'house_number', 'distance_km',\n",
            "       'month', 'requests_per_household', 'week_of_month',\n",
            "       'Average household size', 'broad_area_encoded',\n",
            "       'Couple-family households with children',\n",
            "       'Multigenerational households',\n",
            "       'One-parent families in which the parent is a man+',\n",
            "       'One-parent families in which the parent is a woman+',\n",
            "       'Persons not in census families - Living alone',\n",
            "       'Total one-parent families'],\n",
            "      dtype='object')\n",
            "Feature names the model was trained on: ['dependents_qty', 'primary_client_key', 'house_number', 'distance_km', 'month', 'week_of_month', 'broad_area_encoded', 'requests_per_household', 'Average household size', 'Couple-family households with children', 'Multigenerational households', 'One-parent families in which the parent is a man+', 'One-parent families in which the parent is a woman+', 'Persons not in census families - Living alone', 'Total one-parent families']\n",
            "Reordered input data columns: Index(['dependents_qty', 'primary_client_key', 'house_number', 'distance_km',\n",
            "       'month', 'week_of_month', 'broad_area_encoded',\n",
            "       'requests_per_household', 'Average household size',\n",
            "       'Couple-family households with children',\n",
            "       'Multigenerational households',\n",
            "       'One-parent families in which the parent is a man+',\n",
            "       'One-parent families in which the parent is a woman+',\n",
            "       'Persons not in census families - Living alone',\n",
            "       'Total one-parent families'],\n",
            "      dtype='object')\n",
            "Predicted Hamper Demand: 0.997954785823822\n"
          ]
        }
      ]
    },
    {
      "cell_type": "code",
      "execution_count": 155,
      "metadata": {
        "colab": {
          "base_uri": "https://localhost:8080/"
        },
        "id": "KWILiM03beC2",
        "outputId": "5a297c32-655d-4036-e3b8-cdf51b5dd76c"
      },
      "outputs": [
        {
          "output_type": "stream",
          "name": "stdout",
          "text": [
            "Overwriting app.py\n"
          ]
        }
      ],
      "source": [
        "%%writefile app.py\n",
        "import streamlit as st\n",
        "import pandas as pd\n",
        "import matplotlib.pyplot as plt\n",
        "import seaborn as sns\n",
        "import plotly.express as px\n",
        "import joblib\n",
        "import os\n",
        "import numpy as np\n",
        "from sklearn.preprocessing import LabelEncoder\n",
        "import xgboost as xgb\n",
        "\n",
        "\n",
        "# Load the dataset with a specified encoding\n",
        "\n",
        "# Page 1: Dashboard\n",
        "def dashboard():\n",
        "   st.image('Islamic Family.webp', caption=\"Islamic Family\", use_container_width=True)\n",
        "\n",
        "      # Add logos on the right (col3)\n",
        "\n",
        "      # Highlight the project title\n",
        "   st.title(\"Islamic Family Hamper Distribution Dashboard\")\n",
        "\n",
        "    # Add three summary statistics cards\n",
        "   st.write(\"### Project Highlights\")\n",
        "   col1, col2, col3 = st.columns(3)\n",
        "   col1.metric(label=\"Food hampers distributed monthly\", value=\"2000+\")\n",
        "   col2.metric(label=\"Total volunteers engaged\", value=\"2100\")\n",
        "   col3.metric(label=\"Neighborhoods Covered\", value=\"40+\")\n",
        "\n",
        "    # Use tabs to organize content\n",
        "   tab1, tab2, tab3 = st.tabs([\"Abstract\", \"What the Project Does\", \"Inspiration\"])\n",
        "\n",
        "    # Abstract Tab\n",
        "   with tab1:\n",
        "        st.write(\"💡 **Abstract**\")\n",
        "        st.info(\n",
        "            \"\"\"\n",
        "            This project focuses on identifying high-demand neighborhoods in Edmonton for Islamic food hamper distribution. Using past distribution records\n",
        "            and socio-economic data, we built a machine learning model to predict which areas need the most support. The process involved data cleaning, analysis,\n",
        "             and training regression and classification models. Our goal is to help Islamic organizations allocate resources more effectively and equitably.\n",
        "            \"\"\"\n",
        "        )\n",
        "\n",
        "    # What the Project Does Tab\n",
        "   with tab2:\n",
        "        st.write(\"👨🏻‍💻 **What Our Project Does**\")\n",
        "        bullet_points = [\n",
        "            \"Predicts food hamper demand across Edmonton neighborhoods using machine learning.\",\n",
        "            \"Identifies key socio-economic factors influencing high-need areas.\",\n",
        "            \"Analyzes past distribution data to uncover patterns and trends.\",\n",
        "            \"Visualizes geographic and temporal trends in hamper distribution.\",\n",
        "            \"Enhances planning for future food drives with data-driven insights.\",\n",
        "        ]\n",
        "        for point in bullet_points:\n",
        "            st.markdown(f\"- {point}\")\n",
        "\n",
        "    # Inspiration Tab\n",
        "   with tab3:\n",
        "        st.write(\"🌟 **Inspiration**\")\n",
        "        st.warning(\n",
        "            \"\"\"\n",
        "            The inspiration for this project came from the Islamic community’s ongoing efforts to support vulnerable families\n",
        "             in Edmonton through food drives. While the intention and effort are strong, many of these initiatives face challenges\n",
        "              in identifying which neighborhoods need the most support. By combining data science with community service, we aim to\n",
        "               help Islamic organizations distribute food more effectively, ensuring that help reaches those who need it the most. Our goal is to turn compassion into targeted action through the power of data..\n",
        "            \"\"\"\n",
        "        )\n",
        "import streamlit as st\n",
        "import pandas as pd\n",
        "import numpy as np\n",
        "import xgboost as xgb\n",
        "import shap\n",
        "import matplotlib.pyplot as plt\n",
        "import seaborn as sns\n",
        "\n",
        "import streamlit as st\n",
        "\n",
        "def eda_page():\n",
        "    st.title(\"📊 Exploratory Data Analysis\")\n",
        "    st.write(\"Click below to expand each insight:\")\n",
        "\n",
        "    with st.expander(\"📆 EDA insights\"):\n",
        "        st.image('Screenshot(132).png', use_column_width=True)\n",
        "\n",
        "\n",
        "\n",
        "    with st.expander(\"📊 Correlation Heatmap\"):\n",
        "        st.image('download.jpg', use_column_width=True)\n",
        "\n",
        "\n",
        "\n",
        "\n",
        "\n",
        "\n",
        "\n",
        "def explainable_ai_page():\n",
        "    st.title(\"🧠 Explainable AI Insights\")\n",
        "    st.write(\"### Understanding What Drives Food Hamper Needs\")\n",
        "\n",
        "    # Load model\n",
        "    booster = xgb.Booster()\n",
        "    booster.load_model(\"xgb_model.json\")\n",
        "\n",
        "    # Load data\n",
        "    X_train = pd.read_csv(\"X_train.csv\")\n",
        "    X_test = pd.read_csv(\"X_test.csv\")\n",
        "    y_test = pd.read_csv(\"y_test.csv\")\n",
        "\n",
        "    if isinstance(y_test, pd.DataFrame):\n",
        "        y_test = y_test.iloc[:, 0]\n",
        "\n",
        "    # Predict using Booster and DMatrix\n",
        "    y_pred = booster.predict(xgb.DMatrix(X_test))\n",
        "\n",
        "    # If output is 2D (multi-output), use only column 0\n",
        "    if y_pred.ndim == 2:\n",
        "        y_pred = y_pred[:, 0]\n",
        "\n",
        "    # Now calculate residuals\n",
        "    residuals = np.ravel(y_test) - np.ravel(y_pred)\n",
        "\n",
        "    # Residuals\n",
        "    y_pred = np.ravel(y_pred)\n",
        "    y_test = np.ravel(y_test.values)\n",
        "    residuals = y_test - y_pred\n",
        "\n",
        "    # 📉 Residual Plot\n",
        "    st.subheader(\"📉 Residual Plot\")\n",
        "    fig1, ax1 = plt.subplots()\n",
        "    sns.scatterplot(x=y_pred, y=residuals, ax=ax1)\n",
        "    ax1.axhline(0, color='red', linestyle='--')\n",
        "    ax1.set_xlabel(\"Predicted Hamper Demand\")\n",
        "    ax1.set_ylabel(\"Residuals\")\n",
        "    ax1.set_title(\"Residual Plot for Hamper Demand\")\n",
        "    st.pyplot(fig1)\n",
        "\n",
        "    # 🧠 SHAP Summary Plot\n",
        "    st.subheader(\"📌 SHAP Summary Plot\")\n",
        "\n",
        "    # Create SHAP explainer\n",
        "    explainer = shap.Explainer(booster)\n",
        "    shap_values = explainer(X_test)\n",
        "\n",
        "    # Plot to matplotlib figure and display in Streamlit\n",
        "    st.subheader(\"SHAP Summary Plot - Hamper Demand\")\n",
        "\n",
        "    fig_summary, ax_summary = plt.subplots()\n",
        "    shap.summary_plot(shap_values.values, X_test, show=False)\n",
        "    st.pyplot(fig_summary)\n",
        "\n",
        "        # Only keep first target's SHAP values (hamper_demand)\n",
        "    X_test_shap = pd.read_csv(\"X_test.csv\")  # ← this loads your SHAP input\n",
        "    shap_values = explainer(X_test_shap)\n",
        "\n",
        "    shap_vals_hamper = shap_values.values  # ✅ correct for regression\n",
        "\n",
        "    # Check shape consistency\n",
        "    if shap_vals_hamper.shape[0] != X_test_shap.shape[0]:\n",
        "        st.error(\"Mismatch in SHAP values and test data samples!\")\n",
        "    else:\n",
        "        # Compute mean importance\n",
        "        shap_importance = np.abs(shap_vals_hamper).mean(axis=0)\n",
        "        top_indices = np.argsort(shap_importance)[-5:][::-1]\n",
        "\n",
        "        top_features = [X_test_shap.columns[i] for i in top_indices]\n",
        "\n",
        "        st.subheader(\"Dependence Plots (Top 5)\")\n",
        "    for feature in top_features:\n",
        "      st.write(f\"SHAP Dependence Plot: {feature}\")\n",
        "      shap.dependence_plot(feature, shap_vals_hamper, X_test_shap, show=False)\n",
        "      fig = plt.gcf()\n",
        "      st.pyplot(fig)\n",
        "      plt.clf()\n",
        "\n",
        "\n",
        "\n",
        "\n",
        "    st.success(\"SHAP-based insights generated using the XGBoost `.json` model.\")\n",
        "# Page 3: Machine Learning Modeling\n",
        "import streamlit as st\n",
        "import pandas as pd\n",
        "import pickle\n",
        "\n",
        "def machine_learning_modeling():\n",
        "    st.title(\"📦 Hamper Demand Prediction\")\n",
        "    st.write(\"Fill in the household and request details below:\")\n",
        "\n",
        "    try:\n",
        "        # 📥 User Inputs\n",
        "        dependents = st.number_input(\"👨‍👩‍👧 Number of Dependents\", min_value=0)\n",
        "        distance = st.number_input(\"📍 Distance (km) from center\", min_value=0.0)\n",
        "        month = st.selectbox(\"📆 Month\", list(range(1, 13)))\n",
        "        requests = st.number_input(\"📝 Requests per Household\", min_value=0.0)\n",
        "        week = st.selectbox(\"📅 Week of Month\", [1, 2, 3, 4])\n",
        "        avg_size = st.number_input(\"👥 Average Household Size\", min_value=0.0)\n",
        "\n",
        "        # 📍 Broad Area selection (full list)\n",
        "        broad_areas = [\n",
        "            'Londonderry', 'NAIT/Kingway', 'Boyle Street/McCauley', 'Windermere', 'Castle Downs',\n",
        "            'Northeast Edmonton', 'Clareview', 'Alberta Avenue', 'Mill Woods', 'Blue Quill',\n",
        "            'Strathcona', 'Jasper Place', 'Malmo Plains', 'Bonnie Doon', 'Ellerslie',\n",
        "            'West Edmonton', 'Calder/Kensington', 'Oliver/Downtown', 'Albany/Cumberland',\n",
        "            'Beverly', 'North Central', 'University Area', 'Meadowlark/Jasper Place', 'Eastgate',\n",
        "            'Capilano', 'The Hamptons', 'Terwillegar', 'Downtown', 'Red Deer', 'The Meadows', 'Camrose'\n",
        "        ]\n",
        "        broad_area_mapping = {area: idx for idx, area in enumerate(broad_areas)}\n",
        "        broad_area = st.selectbox(\"🏘️ Broad Area\", broad_areas)\n",
        "        broad_area_encoded = broad_area_mapping[broad_area]\n",
        "\n",
        "        # 👻 Default socio-economic features (dummy values for now)\n",
        "        input_data = pd.DataFrame([{\n",
        "            'dependents_qty': dependents,\n",
        "            'primary_client_key': 0,\n",
        "            'house_number': 0,\n",
        "            'distance_km': distance,\n",
        "            'month': month,\n",
        "            'requests_per_household': requests,\n",
        "            'week_of_month': week,\n",
        "            'Average household size': avg_size,\n",
        "            'broad_area_encoded': broad_area_encoded,\n",
        "            'Couple-family households with children': 5265.0,\n",
        "            'Multigenerational households': 195,\n",
        "            'One-parent families in which the parent is a man+': 1950,\n",
        "            'One-parent families in which the parent is a woman+': 2535,\n",
        "            'Persons not in census families - Living alone': 1468,\n",
        "            'Total one-parent families': 0\n",
        "        }])\n",
        "\n",
        "        # ✅ Ensure correct feature order (must match model exactly)\n",
        "        expected_columns = [\n",
        "    'dependents_qty', 'primary_client_key', 'house_number', 'distance_km', 'month',\n",
        "    'requests_per_household', 'week_of_month', 'Average household size', 'broad_area_encoded',\n",
        "    'Couple-family households with children', 'Multigenerational households',\n",
        "    'One-parent families in which the parent is a man+',\n",
        "    'One-parent families in which the parent is a woman+',\n",
        "    'Persons not in census families - Living alone', 'Total one-parent families'\n",
        "          ]\n",
        "\n",
        "        input_data = input_data[expected_columns]\n",
        "\n",
        "        # 🔍 Load Trained Model\n",
        "        try:\n",
        "            with open(\"xgb_model.pkl\", \"rb\") as f:\n",
        "                model = pickle.load(f)\n",
        "        except Exception as e:\n",
        "            st.error(f\"❌ Failed to load model: {e}\")\n",
        "            return\n",
        "\n",
        "        # 🔮 Make Prediction\n",
        "        hamper_pred = model.predict(input_data.values)[0]\n",
        "\n",
        "        # ✅ Display Result\n",
        "        # 🔍 Multiply by max value used during model training to rescale\n",
        "        max_hamper_value = 100  # Replace this with the actual max hamper demand from your training set\n",
        "        hamper_pred = hamper_pred * max_hamper_value\n",
        "\n",
        "        st.success(f\"📦 Predicted Hamper Demand: **{int(round(hamper_pred))} hampers**\")\n",
        "\n",
        "\n",
        "\n",
        "    except Exception as e:\n",
        "        st.error(f\"❌ Unexpected error: {e}\")\n",
        "\n",
        "# Page 4: Neighbourhood Mapping\n",
        "\n",
        "# Read geospatial data\n",
        "\n",
        "import streamlit as st\n",
        "import pandas as pd\n",
        "import plotly.express as px\n",
        "\n",
        "def hamper_demand_map():\n",
        "    st.title(\"📍 Hamper Demand Map by Broad Area\")\n",
        "\n",
        "    # Load main data and combined coordinates\n",
        "    df = pd.read_csv(\"df_merged_backup.csv\")\n",
        "    coords = pd.read_csv(\"geocoded_broad_areas.csv\")\n",
        "    manual_coords = pd.read_csv(\"location.csv\")\n",
        "\n",
        "    # Clean and combine both coordinate sources\n",
        "    coords['broad_area'] = coords['broad_area'].astype(str).str.strip().str.title()\n",
        "    manual_coords = manual_coords.rename(columns={\"Neighbourhood\": \"broad_area\"})\n",
        "    manual_coords['broad_area'] = manual_coords['broad_area'].astype(str).str.strip().str.title()\n",
        "\n",
        "    # Combine both sources\n",
        "    all_coords = pd.concat([manual_coords[['broad_area', 'Latitude', 'Longitude']],\n",
        "                            coords[['broad_area', 'Latitude', 'Longitude']]])\n",
        "    all_coords = all_coords.drop_duplicates(subset='broad_area', keep='first')\n",
        "\n",
        "    # Prepare df and merge with coordinates\n",
        "    df['broad_area_clean'] = df['broad_area'].astype(str).str.strip().str.title()\n",
        "    df = pd.merge(df, all_coords, left_on='broad_area_clean', right_on='broad_area', how='left')\n",
        "    df = df.dropna(subset=['Latitude', 'Longitude'])\n",
        "\n",
        "    # Group data for plotting\n",
        "    summary = df.groupby('broad_area_clean', as_index=False).agg({\n",
        "        'hamper_demand': lambda x: int(round(x.mean())),\n",
        "        'Latitude': 'first',\n",
        "        'Longitude': 'first'\n",
        "    })\n",
        "\n",
        "    # Plot\n",
        "    fig = px.scatter_mapbox(\n",
        "        summary,\n",
        "        lat='Latitude',\n",
        "        lon='Longitude',\n",
        "        color='hamper_demand',\n",
        "        hover_name='broad_area_clean',\n",
        "        hover_data={'hamper_demand': True},\n",
        "        zoom=10,\n",
        "        title=\"Hamper Demand by Broad Area\"\n",
        "    )\n",
        "    fig.update_layout(mapbox_style='open-street-map')\n",
        "    st.plotly_chart(fig)\n",
        "# Page 5: Data Collection\n",
        "def data_collection():\n",
        "    st.title(\"Registration form\")\n",
        "    st.write(\"Please fill out the Google form to register to be a member of Islamic Family!\")\n",
        "    google_form_url = \"https://docs.google.com/forms/d/e/1FAIpQLSdAczaPFRHCfVeq-qOVkHwn9QE3aCR5I-1xkJhV0XImfWF9Xg/viewform?usp=dialog\"\n",
        "    st.markdown(f\"[Fill out the form]({google_form_url})\")\n",
        "\n",
        "def thank_you_page():\n",
        "    st.title(\"Thank You to Our Stakeholders!\")\n",
        "\n",
        "    # Add a thank you message\n",
        "    st.write(\n",
        "        \"\"\"\n",
        "        We extend our heartfelt gratitude to our amazing stakeholders for their invaluable support in making this project a success.\n",
        "        Your contributions and dedication have made a meaningful impact on our community.\n",
        "        \"\"\"\n",
        "    )\n",
        "\n",
        "    # Create a layout with columns for displaying logos\n",
        "    st.write(\"### Our Stakeholders:\")\n",
        "    st.image('67364fb3e83436f479ca372a_IF-Homepage-Hero.webp', caption=\"The Islamic Family\", use_container_width=True)\n",
        "\n",
        "\n",
        "    # Add a footer with a final thank you message\n",
        "    st.write(\"---\")\n",
        "    st.subheader(\"Together, we are making a difference!\")\n",
        "\n",
        "\n",
        "\n",
        "# Main App Logic\n",
        "def main():\n",
        "    st.sidebar.title(\"Islamic Family App\")\n",
        "    app_page = st.sidebar.radio(\"Select a Page\", [\"Dashboard\", \"EDA\", \"Neighbourhood Mapping\", \"ML Modelling\",\"Explainable AI\", \"Data Collection\",\"Thank You\"])\n",
        "\n",
        "    if app_page == \"Dashboard\":\n",
        "        dashboard()\n",
        "    elif app_page == \"eda_page\":\n",
        "        eda_page()\n",
        "    elif app_page == \"Neighbourhood Mapping\":\n",
        "        hamper_demand_map()\n",
        "    elif app_page == \"ML Modeling\":\n",
        "        machine_learning_modeling()\n",
        "    elif app_page == \"Explainable AI\":\n",
        "        explainable_ai_page()\n",
        "    elif app_page == \"Data Collection\":\n",
        "        data_collection()\n",
        "    elif app_page == \"Thank You\":\n",
        "        thank_you_page()\n",
        "\n",
        "\n",
        "if __name__ == \"__main__\":\n",
        "    main()\n"
      ]
    },
    {
      "cell_type": "markdown",
      "metadata": {
        "id": "ltcim-pbs2fS"
      },
      "source": [
        "## Install localtunnel"
      ]
    },
    {
      "cell_type": "code",
      "execution_count": 156,
      "metadata": {
        "colab": {
          "base_uri": "https://localhost:8080/"
        },
        "id": "7pekMVm9s2fS",
        "outputId": "06c0e374-9b85-4a0a-c01b-ec06f919a3f0"
      },
      "outputs": [
        {
          "output_type": "stream",
          "name": "stdout",
          "text": [
            "\u001b[1G\u001b[0K⠙\u001b[1G\u001b[0K⠹\u001b[1G\u001b[0K⠸\u001b[1G\u001b[0K⠼\u001b[1G\u001b[0K⠴\u001b[1G\u001b[0K⠦\u001b[1G\u001b[0K\n",
            "up to date, audited 23 packages in 1s\n",
            "\u001b[1G\u001b[0K⠦\u001b[1G\u001b[0K\n",
            "\u001b[1G\u001b[0K⠦\u001b[1G\u001b[0K3 packages are looking for funding\n",
            "\u001b[1G\u001b[0K⠦\u001b[1G\u001b[0K  run `npm fund` for details\n",
            "\u001b[1G\u001b[0K⠦\u001b[1G\u001b[0K\n",
            "2 \u001b[31m\u001b[1mhigh\u001b[22m\u001b[39m severity vulnerabilities\n",
            "\n",
            "To address all issues (including breaking changes), run:\n",
            "  npm audit fix --force\n",
            "\n",
            "Run `npm audit` for details.\n",
            "\u001b[1G\u001b[0K⠦\u001b[1G\u001b[0K"
          ]
        }
      ],
      "source": [
        "!npm install localtunnel"
      ]
    },
    {
      "cell_type": "markdown",
      "metadata": {
        "id": "QE5JvKZqs2fT"
      },
      "source": [
        "## Run streamlit in background"
      ]
    },
    {
      "cell_type": "code",
      "execution_count": 157,
      "metadata": {
        "colab": {
          "base_uri": "https://localhost:8080/"
        },
        "id": "vu4nfUpYs2fT",
        "outputId": "2a99be13-8f03-476b-c2cf-8132028070b3"
      },
      "outputs": [
        {
          "output_type": "stream",
          "name": "stdout",
          "text": [
            "34.168.234.94\n"
          ]
        }
      ],
      "source": [
        "!streamlit run /content/app.py &>/content/logs.txt & curl ipv4.icanhazip.com"
      ]
    },
    {
      "cell_type": "markdown",
      "metadata": {
        "id": "HOdlvxGYB1Uv"
      },
      "source": []
    },
    {
      "cell_type": "markdown",
      "metadata": {
        "id": "uPkyr0iLs2fT"
      },
      "source": [
        "Copy this IP address."
      ]
    },
    {
      "cell_type": "markdown",
      "metadata": {
        "id": "y2qk8D1zs2fT"
      },
      "source": [
        "## Expose the port 8501\n",
        "Then just click in the `url` showed.\n",
        "\n",
        "A `log.txt`file will be created."
      ]
    },
    {
      "cell_type": "code",
      "execution_count": 158,
      "metadata": {
        "colab": {
          "base_uri": "https://localhost:8080/"
        },
        "id": "1M_FbMZJs2fT",
        "outputId": "bb9e9011-8051-426e-8491-d4c6be59f29d"
      },
      "outputs": [
        {
          "output_type": "stream",
          "name": "stdout",
          "text": [
            "\u001b[1G\u001b[0K⠙\u001b[1G\u001b[0Kyour url is: https://petite-gifts-tie.loca.lt\n",
            "^C\n"
          ]
        }
      ],
      "source": [
        "!npx localtunnel --port 8501"
      ]
    }
  ],
  "metadata": {
    "colab": {
      "provenance": []
    },
    "kernelspec": {
      "display_name": "Python 3",
      "name": "python3"
    }
  },
  "nbformat": 4,
  "nbformat_minor": 0
}